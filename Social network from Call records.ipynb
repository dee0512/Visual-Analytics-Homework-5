{
 "cells": [
  {
   "cell_type": "code",
   "execution_count": 2,
   "metadata": {
    "collapsed": true
   },
   "outputs": [],
   "source": [
    "import numpy as np\n",
    "import pandas as pd\n",
    "from pandas import DataFrame, read_csv\n",
    "from bokeh.plotting import figure\n",
    "from bokeh.io import output_notebook, show, output_file, curdoc"
   ]
  },
  {
   "cell_type": "markdown",
   "metadata": {},
   "source": [
    "### Import and clean the data:"
   ]
  },
  {
   "cell_type": "code",
   "execution_count": 41,
   "metadata": {},
   "outputs": [],
   "source": [
    "data = pd.read_csv('calls.csv')\n",
    "\n",
    "# remove missed calls\n",
    "data = data[data.direction != 'Missed']\n",
    "\n",
    "#change the direction of incoming calls\n",
    "incomingRows = data[data.direction == 'Incoming']\n",
    "\n",
    "for row in incomingRows.iterrows():\n",
    "    data.set_value(row[0],'user',row[1]['other'])\n",
    "    data.set_value(row[0],'other',row[1]['user'])\n",
    "\n",
    "#remove direction\n",
    "data.drop(['direction'], axis=1, inplace=True)\n",
    "\n",
    "# rename columns\n",
    "data.rename(columns={'user': 'from', 'other': 'to'}, inplace=True)\n",
    "\n",
    "# clean the data in terms of the phone numbers\n",
    "data['from'] = data['from'].astype(str)\n",
    "data['to'] = data['to'].astype(str)\n",
    "\n",
    "# 66 rows have '9' in the column 'from'. remove these rows:\n",
    "data = data[data['from'] != '9']\n",
    "\n",
    "# Some of the rows in the column 'to' have leading zeros. Remove them:\n",
    "for row in data.iterrows():\n",
    "        if(row[1]['to'][0] == '0'):\n",
    "            data.set_value(row[0],'to',row[1]['to'][1:])\n",
    "\n"
   ]
  },
  {
   "cell_type": "code",
   "execution_count": null,
   "metadata": {
    "collapsed": true
   },
   "outputs": [],
   "source": []
  }
 ],
 "metadata": {
  "kernelspec": {
   "display_name": "Python 3",
   "language": "python",
   "name": "python3"
  },
  "language_info": {
   "codemirror_mode": {
    "name": "ipython",
    "version": 3
   },
   "file_extension": ".py",
   "mimetype": "text/x-python",
   "name": "python",
   "nbconvert_exporter": "python",
   "pygments_lexer": "ipython3",
   "version": "3.6.1"
  }
 },
 "nbformat": 4,
 "nbformat_minor": 2
}
