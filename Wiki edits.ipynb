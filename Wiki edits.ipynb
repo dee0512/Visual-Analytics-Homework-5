{
 "cells": [
  {
   "cell_type": "code",
   "execution_count": 101,
   "metadata": {},
   "outputs": [
    {
     "name": "stdout",
     "output_type": "stream",
     "text": [
      "(1338, 7)\n"
     ]
    }
   ],
   "source": [
    "import numpy as np\n",
    "import pandas as pd\n",
    "import re\n",
    "\n",
    "file = open('data/wiki sample data.txt','r')\n",
    "\n",
    "lines = file.readlines()\n",
    "#print (lines)\n",
    "\n",
    "df = pd.DataFrame(columns=['timestamp','user','minorEdit','pageLength','editDiff','comment','tags'])\n",
    "i=0\n",
    "for line in lines:\n",
    "        #split via brackets\n",
    "        token = re.split('\\(|\\)',line)\n",
    "        #print(token)\n",
    "        timestamp = token[2].split('?')[0]\n",
    "        timestamp = pd.to_datetime(timestamp)\n",
    "        #split by ?\n",
    "        user = token[2].split('?')[1:]\n",
    "        user = ''.join(user)\n",
    "        user = user[1:-1]\n",
    "        m = token[4]\n",
    "        m= m.split('.')[0]\n",
    "        m= True if (m=='? m ') else False\n",
    "        byte = token[5].split(' ')[0]\n",
    "        byte = int(byte.replace(',',''))\n",
    "        change = token[7]\n",
    "        change = int(change.replace(',',''))\n",
    "        comment = re.split('\\. \\. ',line)[-1]\n",
    "        tagComment = comment.split('(undo)')\n",
    "        #print (tagComment)\n",
    "        comment = tagComment[0][1:-2]\n",
    "        #undo is not at the end\n",
    "        if (len(tagComment)>1):\n",
    "            tag = tagComment[1][2:-2]\n",
    "            tag = tag.split(':')\n",
    "            if (len(tag)>1):\n",
    "                tag = tag[1][1:]\n",
    "                tag = tag.split(',')\n",
    "            if (tag[0]==''):\n",
    "                tag =[]\n",
    "        else:\n",
    "            tag=''\n",
    "        \n",
    "        #tag = tag.split(',')\n",
    "        #print (tag)\n",
    "        \n",
    "        df.loc[i]=[timestamp,user,m,byte,change,comment,tag]\n",
    "        i+=1\n",
    "\n",
    "print (df.shape)"
   ]
  }
 ],
 "metadata": {
  "kernelspec": {
   "display_name": "Python 3",
   "language": "python",
   "name": "python3"
  },
  "language_info": {
   "codemirror_mode": {
    "name": "ipython",
    "version": 3
   },
   "file_extension": ".py",
   "mimetype": "text/x-python",
   "name": "python",
   "nbconvert_exporter": "python",
   "pygments_lexer": "ipython3",
   "version": "3.6.1"
  }
 },
 "nbformat": 4,
 "nbformat_minor": 2
}
