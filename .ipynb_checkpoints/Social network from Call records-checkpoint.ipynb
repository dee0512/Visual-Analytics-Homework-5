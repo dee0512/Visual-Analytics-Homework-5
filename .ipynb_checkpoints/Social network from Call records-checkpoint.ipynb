{
 "cells": [
  {
   "cell_type": "code",
   "execution_count": 6,
   "metadata": {
    "collapsed": true
   },
   "outputs": [],
   "source": [
    "import numpy as np\n",
    "import pandas as pd\n",
    "from pandas import DataFrame, read_csv\n",
    "from bokeh.plotting import figure\n",
    "from bokeh.io import output_notebook, show, output_file, curdoc"
   ]
  },
  {
   "cell_type": "markdown",
   "metadata": {},
   "source": [
    "### Import and clean the data:"
   ]
  },
  {
   "cell_type": "code",
   "execution_count": 34,
   "metadata": {},
   "outputs": [
    {
     "name": "stdout",
     "output_type": "stream",
     "text": [
      "         user        other  duration                       timestamp\n",
      "0  7434677419   7610039694       211  Wed Sep 15 19:17:44 +0100 2010\n",
      "1  7641036117  01666472054        31  Mon Feb 11 07:18:23 +0000 1980\n",
      "2  7371326239   7641036117        45  Mon Feb 11 07:45:42 +0000 1980\n",
      "3  7641036117  07681546436        10  Mon Feb 11 08:04:42 +0000 1980\n",
      "4  7641036117  07681546436         0  Mon Feb 11 08:05:31 +0000 1980\n"
     ]
    }
   ],
   "source": [
    "data = pd.read_csv('calls.csv')\n",
    "\n",
    "# remove missed calls\n",
    "data = data[data.direction != 'Missed']\n",
    "\n",
    "#change the direction of incoming calls\n",
    "incomingRows = data[data.direction == 'Incoming']\n",
    "\n",
    "for row in incomingRows.iterrows():\n",
    "    data.set_value(row[0],'user',row[1]['other'])\n",
    "    data.set_value(row[0],'other',row[1]['user'])\n",
    "\n",
    "#remove direction\n",
    "data.drop(['direction'], axis=1, inplace=True)\n",
    "\n",
    "print(data.head())"
   ]
  },
  {
   "cell_type": "code",
   "execution_count": null,
   "metadata": {
    "collapsed": true
   },
   "outputs": [],
   "source": []
  }
 ],
 "metadata": {
  "kernelspec": {
   "display_name": "Python 3",
   "language": "python",
   "name": "python3"
  },
  "language_info": {
   "codemirror_mode": {
    "name": "ipython",
    "version": 3
   },
   "file_extension": ".py",
   "mimetype": "text/x-python",
   "name": "python",
   "nbconvert_exporter": "python",
   "pygments_lexer": "ipython3",
   "version": "3.6.1"
  }
 },
 "nbformat": 4,
 "nbformat_minor": 2
}
